{
  "nbformat": 4,
  "nbformat_minor": 0,
  "metadata": {
    "colab": {
      "provenance": []
    },
    "kernelspec": {
      "name": "python3",
      "display_name": "Python 3"
    },
    "language_info": {
      "name": "python"
    }
  },
  "cells": [
    {
      "cell_type": "markdown",
      "source": [
        "Установка одинаковых версий"
      ],
      "metadata": {
        "id": "C11uMwxjTaDN"
      }
    },
    {
      "cell_type": "code",
      "execution_count": null,
      "metadata": {
        "id": "5AsgF2tZKh87"
      },
      "outputs": [],
      "source": [
        "!pip install -q keras==2.15.0"
      ]
    },
    {
      "cell_type": "code",
      "source": [
        "!pip install -q tensorflow==2.15.0"
      ],
      "metadata": {
        "id": "KDgcqnZRKrMl"
      },
      "execution_count": null,
      "outputs": []
    },
    {
      "cell_type": "markdown",
      "source": [
        "Импорт библиотек"
      ],
      "metadata": {
        "id": "2PgHTTJLTeJV"
      }
    },
    {
      "cell_type": "code",
      "source": [
        "import keras\n",
        "import tensorflow\n",
        "print(keras.__version__)\n",
        "print(tensorflow.__version__)\n",
        "import pandas as pd\n",
        "import numpy as np\n",
        "import re\n",
        "import xgboost as xgb\n",
        "from sklearn.model_selection import train_test_split\n",
        "from sklearn.preprocessing import StandardScaler\n",
        "from keras.models import Model\n",
        "from keras.layers import Input, Dense, Dropout\n",
        "from keras.optimizers import Adam\n",
        "from sklearn.metrics import r2_score, mean_squared_error, mean_absolute_error"
      ],
      "metadata": {
        "colab": {
          "base_uri": "https://localhost:8080/"
        },
        "id": "fOvX3TKxK9nk",
        "outputId": "268f8919-99ab-449a-a7cf-122f04369c99"
      },
      "execution_count": null,
      "outputs": [
        {
          "output_type": "stream",
          "name": "stdout",
          "text": [
            "2.15.0\n",
            "2.15.0\n"
          ]
        }
      ]
    },
    {
      "cell_type": "markdown",
      "source": [
        "Загрузка данных"
      ],
      "metadata": {
        "id": "bOcnixazThF9"
      }
    },
    {
      "cell_type": "code",
      "source": [
        "df = pd.read_csv('no_NaN_geometry_sakhalin.csv')\n",
        "df = df[df['date'] == '2020-06-01.tif'][:2000]"
      ],
      "metadata": {
        "id": "zFm38mv3LMBL"
      },
      "execution_count": null,
      "outputs": []
    },
    {
      "cell_type": "code",
      "source": [
        "df['sr4_3_mean'] = df['B08_mean'] / df['B04_mean']\n",
        "df['sr5_4_mean'] = df['B11_mean'] / df['B08_mean']\n",
        "df['kt_1_mean'] = (0.3037 * df['B02_mean'] + 0.2793 * df['B03_mean'] +\n",
        "                   0.4743 * df['B04_mean'] + 0.5585 * df['B08_mean'] +\n",
        "                   0.5082 * df['B11_mean'] + 0.1863 * df['B12_mean'])\n",
        "df['kt_2_mean'] = (-0.2941 * df['B02_mean'] - 0.243 * df['B03_mean'] -\n",
        "                   0.5424 * df['B04_mean'] + 0.7276 * df['B08_mean'] +\n",
        "                   0.0713 * df['B11_mean'] - 0.1608 * df['B12_mean'])\n",
        "df['kt_3_mean'] = (0.1511 * df['B02_mean'] + 0.1973 * df['B03_mean'] +\n",
        "                   0.3283 * df['B04_mean'] + 0.3407 * df['B08_mean'] -\n",
        "                   0.7117 * df['B11_mean'] - 0.4559 * df['B12_mean'])\n"
      ],
      "metadata": {
        "id": "HdF1p845Lb5S"
      },
      "execution_count": null,
      "outputs": []
    },
    {
      "cell_type": "code",
      "source": [
        "def avg_long(polygon):\n",
        "    my_string = polygon\n",
        "    my_string = re.sub(r'[A-Za-z()]', '', my_string)\n",
        "    longitudes = [float(coord.split(' ')[1]) for coord in my_string.split(',')]\n",
        "    return np.mean(longitudes)\n",
        "\n",
        "def avg_lat(polygon):\n",
        "    my_string = polygon\n",
        "    my_string = re.sub(r'[A-Za-z()]', '', my_string)\n",
        "    latitudes = [float(coord.split(' ')[2]) for coord in my_string.split(',')]\n",
        "    return np.mean(latitudes)"
      ],
      "metadata": {
        "id": "452D_7akL96U"
      },
      "execution_count": null,
      "outputs": []
    },
    {
      "cell_type": "code",
      "source": [
        "df['mean_latitude'] = df['geometry'].apply(avg_lat)\n",
        "df['mean_longitude'] = df['geometry'].apply(avg_long)"
      ],
      "metadata": {
        "id": "efqp1bweNkm_"
      },
      "execution_count": null,
      "outputs": []
    },
    {
      "cell_type": "markdown",
      "source": [
        "Столбцы в данных, разделение признаков на целевые и переменные"
      ],
      "metadata": {
        "id": "EyoCklm9RPhD"
      }
    },
    {
      "cell_type": "code",
      "source": [
        "y_height = df['height']\n",
        "y_timber_stock = df['timber_stock']\n",
        "y_basal_area = df['basal_area']"
      ],
      "metadata": {
        "id": "xqLY3jRWNpzJ"
      },
      "execution_count": null,
      "outputs": []
    },
    {
      "cell_type": "code",
      "source": [
        "df.drop(['date', 'height', 'timber_stock', 'basal_area', 'geometry'], axis=1, inplace=True)\n",
        "X = df"
      ],
      "metadata": {
        "id": "iLQCavzCNxAt"
      },
      "execution_count": null,
      "outputs": []
    },
    {
      "cell_type": "markdown",
      "source": [
        "Деление данных на обучающую и тестоовые выборки"
      ],
      "metadata": {
        "id": "5p6MDlQMRhWb"
      }
    },
    {
      "cell_type": "code",
      "source": [
        "X_train, X_test, y_height_train, y_height_test, y_timber_stock_train, y_timber_stock_test, y_basal_area_train, y_basal_area_test = train_test_split(\n",
        "    X, y_height, y_timber_stock, y_basal_area, test_size=0.2, random_state=42)"
      ],
      "metadata": {
        "id": "Tm34Os2RR99D"
      },
      "execution_count": null,
      "outputs": []
    },
    {
      "cell_type": "markdown",
      "source": [
        "масштабирование выборки"
      ],
      "metadata": {
        "id": "eG3SfrfERdRe"
      }
    },
    {
      "cell_type": "code",
      "source": [
        "scaler = StandardScaler()\n",
        "X_train_scaled = scaler.fit_transform(X_train)\n",
        "X_test_scaled = scaler.transform(X_test)"
      ],
      "metadata": {
        "id": "N5Z1mo-aSCqr"
      },
      "execution_count": null,
      "outputs": []
    },
    {
      "cell_type": "markdown",
      "source": [
        "создание модели"
      ],
      "metadata": {
        "id": "ZN1Hndf9Rmx8"
      }
    },
    {
      "cell_type": "code",
      "source": [
        "input_layer = Input(shape=(X_train_scaled.shape[1],))"
      ],
      "metadata": {
        "id": "vItf0Vs6SigC"
      },
      "execution_count": null,
      "outputs": []
    },
    {
      "cell_type": "markdown",
      "source": [
        "20 общих слоев"
      ],
      "metadata": {
        "id": "U0mY6tsMRpRP"
      }
    },
    {
      "cell_type": "code",
      "source": [
        "shared_layer = input_layer\n",
        "for _ in range(10):  # 10 слоев с 256 нейронами\n",
        "    shared_layer = Dense(256, activation='relu')(shared_layer)\n",
        "    shared_layer = Dropout(0.2)(shared_layer)\n",
        "\n",
        "for _ in range(10):  # 10 слоев с 128 нейронами\n",
        "    shared_layer = Dense(128, activation='relu')(shared_layer)\n",
        "    shared_layer = Dropout(0.2)(shared_layer)"
      ],
      "metadata": {
        "id": "FE3RHpLESrWI"
      },
      "execution_count": null,
      "outputs": []
    },
    {
      "cell_type": "markdown",
      "source": [
        "ветви высоты, древисины и площади"
      ],
      "metadata": {
        "id": "bvGM0LwORs5i"
      }
    },
    {
      "cell_type": "code",
      "source": [
        "height_output = Dense(1, name='height_output')(shared_layer)\n",
        "timber_stock_output = Dense(1, name='timber_stock_output')(shared_layer)\n",
        "basal_area_output = Dense(1, name='basal_area_output')(shared_layer)"
      ],
      "metadata": {
        "id": "q8XBy9xoSs83"
      },
      "execution_count": null,
      "outputs": []
    },
    {
      "cell_type": "markdown",
      "source": [
        "создание модели"
      ],
      "metadata": {
        "id": "NE-5lj_6RvDv"
      }
    },
    {
      "cell_type": "code",
      "source": [
        "model = Model(inputs=input_layer, outputs=[height_output, timber_stock_output, basal_area_output])"
      ],
      "metadata": {
        "id": "_sm--WNESzks"
      },
      "execution_count": null,
      "outputs": []
    },
    {
      "cell_type": "markdown",
      "source": [
        "компиляция модели"
      ],
      "metadata": {
        "id": "PDJMbUY_RxYf"
      }
    },
    {
      "cell_type": "code",
      "source": [
        "model.compile(optimizer=Adam(learning_rate=0.001), loss='mse', metrics=['mae'])"
      ],
      "metadata": {
        "id": "rWI62YLDS047"
      },
      "execution_count": null,
      "outputs": []
    },
    {
      "cell_type": "markdown",
      "source": [
        "бучение модели"
      ],
      "metadata": {
        "id": "CXLlvv4AR1EP"
      }
    },
    {
      "cell_type": "code",
      "source": [
        "history = model.fit(X_train_scaled, [y_height_train, y_timber_stock_train, y_basal_area_train],\n",
        "                    validation_data=(X_test_scaled, [y_height_test, y_timber_stock_test, y_basal_area_test]),\n",
        "                    epochs=100, batch_size=32)"
      ],
      "metadata": {
        "colab": {
          "base_uri": "https://localhost:8080/"
        },
        "id": "dhS0VLooS6C5",
        "outputId": "0f85c9c3-66cd-4d51-ffb7-05bab8326012"
      },
      "execution_count": null,
      "outputs": [
        {
          "output_type": "stream",
          "name": "stdout",
          "text": [
            "Epoch 1/100\n",
            "119/119 [==============================] - 18s 50ms/step - loss: 11291.0654 - height_output_loss: 208.9468 - timber_stock_output_loss: 10908.3379 - basal_area_output_loss: 173.7808 - height_output_mae: 11.1593 - timber_stock_output_mae: 79.1721 - basal_area_output_mae: 9.6430 - val_loss: 11114.3584 - val_height_output_loss: 101.7169 - val_timber_stock_output_loss: 10971.6025 - val_basal_area_output_loss: 41.0387 - val_height_output_mae: 9.7331 - val_timber_stock_output_mae: 78.1237 - val_basal_area_output_mae: 5.1866\n",
            "Epoch 2/100\n",
            "119/119 [==============================] - 3s 25ms/step - loss: 8126.1777 - height_output_loss: 109.6872 - timber_stock_output_loss: 7929.1382 - basal_area_output_loss: 87.3514 - height_output_mae: 8.1123 - timber_stock_output_mae: 67.2929 - basal_area_output_mae: 6.9707 - val_loss: 8690.6094 - val_height_output_loss: 30.8080 - val_timber_stock_output_loss: 8638.6084 - val_basal_area_output_loss: 21.1937 - val_height_output_mae: 4.9607 - val_timber_stock_output_mae: 67.9088 - val_basal_area_output_mae: 3.4302\n",
            "Epoch 3/100\n",
            "119/119 [==============================] - 2s 20ms/step - loss: 7572.2944 - height_output_loss: 74.7268 - timber_stock_output_loss: 7441.5820 - basal_area_output_loss: 55.9860 - height_output_mae: 6.7076 - timber_stock_output_mae: 65.1853 - basal_area_output_mae: 5.7148 - val_loss: 7899.3643 - val_height_output_loss: 37.8860 - val_timber_stock_output_loss: 7836.5640 - val_basal_area_output_loss: 24.9124 - val_height_output_mae: 5.7491 - val_timber_stock_output_mae: 63.6440 - val_basal_area_output_mae: 3.7249\n",
            "Epoch 4/100\n",
            "119/119 [==============================] - 3s 29ms/step - loss: 6879.2764 - height_output_loss: 51.2797 - timber_stock_output_loss: 6783.7378 - basal_area_output_loss: 44.2629 - height_output_mae: 5.5977 - timber_stock_output_mae: 62.5802 - basal_area_output_mae: 5.0637 - val_loss: 7376.6182 - val_height_output_loss: 34.3217 - val_timber_stock_output_loss: 7321.6987 - val_basal_area_output_loss: 20.5983 - val_height_output_mae: 5.4287 - val_timber_stock_output_mae: 61.2393 - val_basal_area_output_mae: 3.3127\n",
            "Epoch 5/100\n",
            "119/119 [==============================] - 3s 26ms/step - loss: 6375.3833 - height_output_loss: 39.8971 - timber_stock_output_loss: 6302.3154 - basal_area_output_loss: 33.1703 - height_output_mae: 4.9987 - timber_stock_output_mae: 60.8800 - basal_area_output_mae: 4.3797 - val_loss: 6025.1836 - val_height_output_loss: 11.8572 - val_timber_stock_output_loss: 5997.8892 - val_basal_area_output_loss: 15.4371 - val_height_output_mae: 2.8185 - val_timber_stock_output_mae: 57.8472 - val_basal_area_output_mae: 2.9268\n",
            "Epoch 6/100\n",
            "119/119 [==============================] - 2s 20ms/step - loss: 6098.0576 - height_output_loss: 33.8546 - timber_stock_output_loss: 6036.6870 - basal_area_output_loss: 27.5142 - height_output_mae: 4.6001 - timber_stock_output_mae: 59.5455 - basal_area_output_mae: 4.0296 - val_loss: 6125.9756 - val_height_output_loss: 22.4134 - val_timber_stock_output_loss: 6086.7300 - val_basal_area_output_loss: 16.8338 - val_height_output_mae: 4.1736 - val_timber_stock_output_mae: 57.2941 - val_basal_area_output_mae: 3.0243\n",
            "Epoch 7/100\n",
            "119/119 [==============================] - 2s 19ms/step - loss: 5944.3125 - height_output_loss: 30.4013 - timber_stock_output_loss: 5890.4478 - basal_area_output_loss: 23.4637 - height_output_mae: 4.3253 - timber_stock_output_mae: 58.4472 - basal_area_output_mae: 3.6839 - val_loss: 5936.0215 - val_height_output_loss: 15.3581 - val_timber_stock_output_loss: 5905.3018 - val_basal_area_output_loss: 15.3617 - val_height_output_mae: 3.3387 - val_timber_stock_output_mae: 58.3599 - val_basal_area_output_mae: 2.9388\n",
            "Epoch 8/100\n",
            "119/119 [==============================] - 2s 19ms/step - loss: 5966.8203 - height_output_loss: 31.3562 - timber_stock_output_loss: 5911.9204 - basal_area_output_loss: 23.5432 - height_output_mae: 4.4938 - timber_stock_output_mae: 59.0686 - basal_area_output_mae: 3.7364 - val_loss: 5343.1450 - val_height_output_loss: 12.7552 - val_timber_stock_output_loss: 5313.7017 - val_basal_area_output_loss: 16.6882 - val_height_output_mae: 2.9120 - val_timber_stock_output_mae: 58.1675 - val_basal_area_output_mae: 3.3260\n",
            "Epoch 9/100\n",
            "119/119 [==============================] - 3s 26ms/step - loss: 5943.0581 - height_output_loss: 25.4770 - timber_stock_output_loss: 5897.2368 - basal_area_output_loss: 20.3468 - height_output_mae: 4.0151 - timber_stock_output_mae: 59.1213 - basal_area_output_mae: 3.4403 - val_loss: 5650.1748 - val_height_output_loss: 17.1425 - val_timber_stock_output_loss: 5616.5693 - val_basal_area_output_loss: 16.4637 - val_height_output_mae: 3.4945 - val_timber_stock_output_mae: 56.0264 - val_basal_area_output_mae: 2.9365\n",
            "Epoch 10/100\n",
            "119/119 [==============================] - 3s 29ms/step - loss: 5740.1367 - height_output_loss: 24.1231 - timber_stock_output_loss: 5696.6045 - basal_area_output_loss: 19.4098 - height_output_mae: 3.9200 - timber_stock_output_mae: 57.7252 - basal_area_output_mae: 3.3232 - val_loss: 6893.8696 - val_height_output_loss: 24.0373 - val_timber_stock_output_loss: 6847.4761 - val_basal_area_output_loss: 22.3546 - val_height_output_mae: 4.4060 - val_timber_stock_output_mae: 62.4865 - val_basal_area_output_mae: 3.5025\n",
            "Epoch 11/100\n",
            "119/119 [==============================] - 2s 20ms/step - loss: 5921.9014 - height_output_loss: 24.2665 - timber_stock_output_loss: 5878.3784 - basal_area_output_loss: 19.2536 - height_output_mae: 3.9233 - timber_stock_output_mae: 58.7367 - basal_area_output_mae: 3.3374 - val_loss: 5765.1475 - val_height_output_loss: 9.6356 - val_timber_stock_output_loss: 5740.3550 - val_basal_area_output_loss: 15.1580 - val_height_output_mae: 2.4277 - val_timber_stock_output_mae: 59.6117 - val_basal_area_output_mae: 2.9970\n",
            "Epoch 12/100\n",
            "119/119 [==============================] - 2s 20ms/step - loss: 5554.8286 - height_output_loss: 21.7298 - timber_stock_output_loss: 5515.2246 - basal_area_output_loss: 17.8740 - height_output_mae: 3.7640 - timber_stock_output_mae: 56.5241 - basal_area_output_mae: 3.1789 - val_loss: 5069.4639 - val_height_output_loss: 15.9751 - val_timber_stock_output_loss: 5039.3076 - val_basal_area_output_loss: 14.1809 - val_height_output_mae: 3.0326 - val_timber_stock_output_mae: 57.9436 - val_basal_area_output_mae: 3.0230\n",
            "Epoch 13/100\n",
            "119/119 [==============================] - 3s 28ms/step - loss: 5476.5537 - height_output_loss: 21.2676 - timber_stock_output_loss: 5437.8784 - basal_area_output_loss: 17.4097 - height_output_mae: 3.7401 - timber_stock_output_mae: 56.4536 - basal_area_output_mae: 3.1552 - val_loss: 5307.3394 - val_height_output_loss: 14.0006 - val_timber_stock_output_loss: 5278.2500 - val_basal_area_output_loss: 15.0893 - val_height_output_mae: 3.0787 - val_timber_stock_output_mae: 56.0420 - val_basal_area_output_mae: 2.8683\n",
            "Epoch 14/100\n",
            "119/119 [==============================] - 4s 37ms/step - loss: 5357.7881 - height_output_loss: 20.9245 - timber_stock_output_loss: 5320.0508 - basal_area_output_loss: 16.8107 - height_output_mae: 3.6978 - timber_stock_output_mae: 55.5937 - basal_area_output_mae: 3.1169 - val_loss: 5055.3931 - val_height_output_loss: 13.6031 - val_timber_stock_output_loss: 5027.4058 - val_basal_area_output_loss: 14.3830 - val_height_output_mae: 3.0863 - val_timber_stock_output_mae: 54.5577 - val_basal_area_output_mae: 2.8022\n",
            "Epoch 15/100\n",
            "119/119 [==============================] - 3s 22ms/step - loss: 5327.0820 - height_output_loss: 20.7613 - timber_stock_output_loss: 5290.0806 - basal_area_output_loss: 16.2397 - height_output_mae: 3.7284 - timber_stock_output_mae: 55.6200 - basal_area_output_mae: 3.0387 - val_loss: 5660.3081 - val_height_output_loss: 18.6954 - val_timber_stock_output_loss: 5626.5376 - val_basal_area_output_loss: 15.0752 - val_height_output_mae: 3.6446 - val_timber_stock_output_mae: 55.3413 - val_basal_area_output_mae: 2.8709\n",
            "Epoch 16/100\n",
            "119/119 [==============================] - 2s 20ms/step - loss: 5317.9458 - height_output_loss: 21.6438 - timber_stock_output_loss: 5278.9297 - basal_area_output_loss: 17.3739 - height_output_mae: 3.7586 - timber_stock_output_mae: 55.3940 - basal_area_output_mae: 3.1273 - val_loss: 5193.8652 - val_height_output_loss: 16.8231 - val_timber_stock_output_loss: 5162.4463 - val_basal_area_output_loss: 14.5964 - val_height_output_mae: 3.4764 - val_timber_stock_output_mae: 52.8995 - val_basal_area_output_mae: 2.8053\n",
            "Epoch 17/100\n",
            "119/119 [==============================] - 3s 26ms/step - loss: 5365.7925 - height_output_loss: 23.1796 - timber_stock_output_loss: 5325.4160 - basal_area_output_loss: 17.1963 - height_output_mae: 3.8868 - timber_stock_output_mae: 55.5696 - basal_area_output_mae: 3.1400 - val_loss: 5222.1323 - val_height_output_loss: 14.8531 - val_timber_stock_output_loss: 5192.1670 - val_basal_area_output_loss: 15.1123 - val_height_output_mae: 3.2127 - val_timber_stock_output_mae: 55.2862 - val_basal_area_output_mae: 2.8720\n",
            "Epoch 18/100\n",
            "119/119 [==============================] - 4s 35ms/step - loss: 5104.2124 - height_output_loss: 20.9672 - timber_stock_output_loss: 5067.4937 - basal_area_output_loss: 15.7537 - height_output_mae: 3.7590 - timber_stock_output_mae: 54.2816 - basal_area_output_mae: 3.0021 - val_loss: 5085.1436 - val_height_output_loss: 14.2558 - val_timber_stock_output_loss: 5055.9634 - val_basal_area_output_loss: 14.9241 - val_height_output_mae: 3.0570 - val_timber_stock_output_mae: 54.6691 - val_basal_area_output_mae: 2.8390\n",
            "Epoch 19/100\n",
            "119/119 [==============================] - 4s 34ms/step - loss: 5046.5444 - height_output_loss: 19.9230 - timber_stock_output_loss: 5011.4155 - basal_area_output_loss: 15.2059 - height_output_mae: 3.6833 - timber_stock_output_mae: 53.7583 - basal_area_output_mae: 2.9175 - val_loss: 5358.5542 - val_height_output_loss: 22.8847 - val_timber_stock_output_loss: 5315.7549 - val_basal_area_output_loss: 19.9148 - val_height_output_mae: 3.7710 - val_timber_stock_output_mae: 57.1523 - val_basal_area_output_mae: 3.5715\n",
            "Epoch 20/100\n",
            "119/119 [==============================] - 2s 20ms/step - loss: 5218.9629 - height_output_loss: 22.3124 - timber_stock_output_loss: 5179.3496 - basal_area_output_loss: 17.3039 - height_output_mae: 3.8394 - timber_stock_output_mae: 54.9685 - basal_area_output_mae: 3.1307 - val_loss: 5277.1362 - val_height_output_loss: 11.7506 - val_timber_stock_output_loss: 5250.8740 - val_basal_area_output_loss: 14.5107 - val_height_output_mae: 2.7951 - val_timber_stock_output_mae: 55.7699 - val_basal_area_output_mae: 2.8402\n",
            "Epoch 21/100\n",
            "119/119 [==============================] - 2s 20ms/step - loss: 5044.7769 - height_output_loss: 18.3497 - timber_stock_output_loss: 5011.3906 - basal_area_output_loss: 15.0357 - height_output_mae: 3.5099 - timber_stock_output_mae: 53.9886 - basal_area_output_mae: 2.9162 - val_loss: 4750.1987 - val_height_output_loss: 15.2485 - val_timber_stock_output_loss: 4721.9316 - val_basal_area_output_loss: 13.0190 - val_height_output_mae: 3.2795 - val_timber_stock_output_mae: 52.6128 - val_basal_area_output_mae: 2.7232\n",
            "Epoch 22/100\n",
            "119/119 [==============================] - 2s 20ms/step - loss: 5043.3408 - height_output_loss: 18.8066 - timber_stock_output_loss: 5009.3389 - basal_area_output_loss: 15.1939 - height_output_mae: 3.5557 - timber_stock_output_mae: 53.6322 - basal_area_output_mae: 2.9161 - val_loss: 5044.0181 - val_height_output_loss: 15.0343 - val_timber_stock_output_loss: 5015.2227 - val_basal_area_output_loss: 13.7607 - val_height_output_mae: 3.2485 - val_timber_stock_output_mae: 55.2858 - val_basal_area_output_mae: 2.8310\n",
            "Epoch 23/100\n",
            "119/119 [==============================] - 3s 21ms/step - loss: 5126.2778 - height_output_loss: 19.7110 - timber_stock_output_loss: 5091.5273 - basal_area_output_loss: 15.0399 - height_output_mae: 3.5985 - timber_stock_output_mae: 54.4364 - basal_area_output_mae: 2.9085 - val_loss: 4869.9316 - val_height_output_loss: 19.2555 - val_timber_stock_output_loss: 4836.2456 - val_basal_area_output_loss: 14.4298 - val_height_output_mae: 3.6470 - val_timber_stock_output_mae: 53.1950 - val_basal_area_output_mae: 2.9036\n",
            "Epoch 24/100\n",
            "119/119 [==============================] - 4s 35ms/step - loss: 4899.8662 - height_output_loss: 20.1142 - timber_stock_output_loss: 4864.6221 - basal_area_output_loss: 15.1283 - height_output_mae: 3.6491 - timber_stock_output_mae: 52.6769 - basal_area_output_mae: 2.9190 - val_loss: 4899.2354 - val_height_output_loss: 25.1996 - val_timber_stock_output_loss: 4856.8125 - val_basal_area_output_loss: 17.2226 - val_height_output_mae: 4.3391 - val_timber_stock_output_mae: 52.9203 - val_basal_area_output_mae: 3.0484\n",
            "Epoch 25/100\n",
            "119/119 [==============================] - 2s 20ms/step - loss: 4815.6206 - height_output_loss: 20.7000 - timber_stock_output_loss: 4779.8496 - basal_area_output_loss: 15.0721 - height_output_mae: 3.7671 - timber_stock_output_mae: 52.3980 - basal_area_output_mae: 2.9199 - val_loss: 5026.2910 - val_height_output_loss: 13.4091 - val_timber_stock_output_loss: 4998.5806 - val_basal_area_output_loss: 14.3028 - val_height_output_mae: 3.0275 - val_timber_stock_output_mae: 54.7994 - val_basal_area_output_mae: 2.7989\n",
            "Epoch 26/100\n",
            "119/119 [==============================] - 2s 20ms/step - loss: 4794.5947 - height_output_loss: 19.6527 - timber_stock_output_loss: 4760.4238 - basal_area_output_loss: 14.5187 - height_output_mae: 3.6279 - timber_stock_output_mae: 52.3777 - basal_area_output_mae: 2.8595 - val_loss: 4866.5283 - val_height_output_loss: 14.5753 - val_timber_stock_output_loss: 4838.4243 - val_basal_area_output_loss: 13.5295 - val_height_output_mae: 3.1151 - val_timber_stock_output_mae: 54.2340 - val_basal_area_output_mae: 2.8572\n",
            "Epoch 27/100\n",
            "119/119 [==============================] - 2s 20ms/step - loss: 4855.4233 - height_output_loss: 18.0272 - timber_stock_output_loss: 4823.2295 - basal_area_output_loss: 14.1669 - height_output_mae: 3.4811 - timber_stock_output_mae: 52.6037 - basal_area_output_mae: 2.8107 - val_loss: 5001.4575 - val_height_output_loss: 11.8726 - val_timber_stock_output_loss: 4976.1084 - val_basal_area_output_loss: 13.4766 - val_height_output_mae: 2.7854 - val_timber_stock_output_mae: 55.8627 - val_basal_area_output_mae: 2.8464\n",
            "Epoch 28/100\n",
            "119/119 [==============================] - 2s 20ms/step - loss: 4671.4961 - height_output_loss: 18.9739 - timber_stock_output_loss: 4638.5796 - basal_area_output_loss: 13.9428 - height_output_mae: 3.5982 - timber_stock_output_mae: 51.5021 - basal_area_output_mae: 2.7832 - val_loss: 5173.5957 - val_height_output_loss: 13.8128 - val_timber_stock_output_loss: 5144.8540 - val_basal_area_output_loss: 14.9284 - val_height_output_mae: 3.0450 - val_timber_stock_output_mae: 54.9762 - val_basal_area_output_mae: 2.8464\n",
            "Epoch 29/100\n",
            "119/119 [==============================] - 4s 35ms/step - loss: 4767.2627 - height_output_loss: 19.3241 - timber_stock_output_loss: 4733.5332 - basal_area_output_loss: 14.4055 - height_output_mae: 3.6361 - timber_stock_output_mae: 52.3513 - basal_area_output_mae: 2.8646 - val_loss: 5173.8779 - val_height_output_loss: 11.7158 - val_timber_stock_output_loss: 5147.3149 - val_basal_area_output_loss: 14.8478 - val_height_output_mae: 2.7638 - val_timber_stock_output_mae: 57.8790 - val_basal_area_output_mae: 2.8933\n",
            "Epoch 30/100\n",
            "119/119 [==============================] - 4s 33ms/step - loss: 4549.6162 - height_output_loss: 17.8743 - timber_stock_output_loss: 4518.1099 - basal_area_output_loss: 13.6321 - height_output_mae: 3.5139 - timber_stock_output_mae: 51.0009 - basal_area_output_mae: 2.7672 - val_loss: 4970.2993 - val_height_output_loss: 16.9873 - val_timber_stock_output_loss: 4937.9302 - val_basal_area_output_loss: 15.3807 - val_height_output_mae: 3.3289 - val_timber_stock_output_mae: 55.0196 - val_basal_area_output_mae: 3.1230\n",
            "Epoch 31/100\n",
            "119/119 [==============================] - 2s 20ms/step - loss: 4687.1318 - height_output_loss: 18.4782 - timber_stock_output_loss: 4654.5557 - basal_area_output_loss: 14.0999 - height_output_mae: 3.5383 - timber_stock_output_mae: 51.9410 - basal_area_output_mae: 2.8232 - val_loss: 5073.4956 - val_height_output_loss: 11.5523 - val_timber_stock_output_loss: 5047.8862 - val_basal_area_output_loss: 14.0574 - val_height_output_mae: 2.7591 - val_timber_stock_output_mae: 55.0115 - val_basal_area_output_mae: 2.8868\n",
            "Epoch 32/100\n",
            "119/119 [==============================] - 2s 20ms/step - loss: 4723.7129 - height_output_loss: 18.5129 - timber_stock_output_loss: 4690.8984 - basal_area_output_loss: 14.3016 - height_output_mae: 3.5454 - timber_stock_output_mae: 51.9393 - basal_area_output_mae: 2.8414 - val_loss: 5088.0454 - val_height_output_loss: 13.1868 - val_timber_stock_output_loss: 5060.1396 - val_basal_area_output_loss: 14.7190 - val_height_output_mae: 2.9254 - val_timber_stock_output_mae: 56.7597 - val_basal_area_output_mae: 3.0933\n",
            "Epoch 33/100\n",
            "119/119 [==============================] - 3s 25ms/step - loss: 4541.3589 - height_output_loss: 18.4520 - timber_stock_output_loss: 4509.0923 - basal_area_output_loss: 13.8161 - height_output_mae: 3.5289 - timber_stock_output_mae: 51.3011 - basal_area_output_mae: 2.7992 - val_loss: 4937.8130 - val_height_output_loss: 12.9016 - val_timber_stock_output_loss: 4911.5366 - val_basal_area_output_loss: 13.3757 - val_height_output_mae: 2.9820 - val_timber_stock_output_mae: 55.4403 - val_basal_area_output_mae: 2.7993\n",
            "Epoch 34/100\n",
            "119/119 [==============================] - 4s 32ms/step - loss: 4625.4624 - height_output_loss: 17.5754 - timber_stock_output_loss: 4594.2900 - basal_area_output_loss: 13.5966 - height_output_mae: 3.4844 - timber_stock_output_mae: 51.3483 - basal_area_output_mae: 2.7445 - val_loss: 5014.3252 - val_height_output_loss: 10.7142 - val_timber_stock_output_loss: 4990.0615 - val_basal_area_output_loss: 13.5493 - val_height_output_mae: 2.6525 - val_timber_stock_output_mae: 55.1698 - val_basal_area_output_mae: 2.9071\n",
            "Epoch 35/100\n",
            "119/119 [==============================] - 2s 20ms/step - loss: 4542.8457 - height_output_loss: 18.6641 - timber_stock_output_loss: 4509.9785 - basal_area_output_loss: 14.2034 - height_output_mae: 3.5389 - timber_stock_output_mae: 51.2850 - basal_area_output_mae: 2.8603 - val_loss: 4917.6353 - val_height_output_loss: 12.7169 - val_timber_stock_output_loss: 4891.2573 - val_basal_area_output_loss: 13.6614 - val_height_output_mae: 2.8535 - val_timber_stock_output_mae: 55.0088 - val_basal_area_output_mae: 2.8017\n",
            "Epoch 36/100\n",
            "119/119 [==============================] - 2s 20ms/step - loss: 4462.6743 - height_output_loss: 17.3996 - timber_stock_output_loss: 4431.8110 - basal_area_output_loss: 13.4629 - height_output_mae: 3.4646 - timber_stock_output_mae: 50.3195 - basal_area_output_mae: 2.7575 - val_loss: 5110.7261 - val_height_output_loss: 11.9163 - val_timber_stock_output_loss: 5085.1934 - val_basal_area_output_loss: 13.6166 - val_height_output_mae: 2.8221 - val_timber_stock_output_mae: 57.6378 - val_basal_area_output_mae: 2.9479\n",
            "Epoch 37/100\n",
            "119/119 [==============================] - 2s 20ms/step - loss: 4564.0361 - height_output_loss: 19.1781 - timber_stock_output_loss: 4530.7505 - basal_area_output_loss: 14.1076 - height_output_mae: 3.5908 - timber_stock_output_mae: 50.9102 - basal_area_output_mae: 2.8066 - val_loss: 4840.7695 - val_height_output_loss: 15.5323 - val_timber_stock_output_loss: 4807.0781 - val_basal_area_output_loss: 18.1592 - val_height_output_mae: 3.1802 - val_timber_stock_output_mae: 54.6362 - val_basal_area_output_mae: 3.5118\n",
            "Epoch 38/100\n",
            "119/119 [==============================] - 3s 21ms/step - loss: 4357.7368 - height_output_loss: 18.8014 - timber_stock_output_loss: 4325.3022 - basal_area_output_loss: 13.6323 - height_output_mae: 3.5804 - timber_stock_output_mae: 49.7657 - basal_area_output_mae: 2.7730 - val_loss: 5180.4707 - val_height_output_loss: 15.5866 - val_timber_stock_output_loss: 5150.3213 - val_basal_area_output_loss: 14.5617 - val_height_output_mae: 3.2369 - val_timber_stock_output_mae: 56.3897 - val_basal_area_output_mae: 2.8867\n",
            "Epoch 39/100\n",
            "119/119 [==============================] - 4s 35ms/step - loss: 4666.7681 - height_output_loss: 17.4466 - timber_stock_output_loss: 4635.0513 - basal_area_output_loss: 14.2712 - height_output_mae: 3.4038 - timber_stock_output_mae: 51.7308 - basal_area_output_mae: 2.8411 - val_loss: 5314.0117 - val_height_output_loss: 20.1530 - val_timber_stock_output_loss: 5277.9160 - val_basal_area_output_loss: 15.9417 - val_height_output_mae: 3.6194 - val_timber_stock_output_mae: 57.5616 - val_basal_area_output_mae: 3.1616\n",
            "Epoch 40/100\n",
            "119/119 [==============================] - 2s 20ms/step - loss: 4491.9844 - height_output_loss: 17.7142 - timber_stock_output_loss: 4460.9194 - basal_area_output_loss: 13.3511 - height_output_mae: 3.4788 - timber_stock_output_mae: 50.9962 - basal_area_output_mae: 2.7509 - val_loss: 5035.4375 - val_height_output_loss: 11.8822 - val_timber_stock_output_loss: 5008.3203 - val_basal_area_output_loss: 15.2360 - val_height_output_mae: 2.6752 - val_timber_stock_output_mae: 58.0953 - val_basal_area_output_mae: 3.2241\n",
            "Epoch 41/100\n",
            "119/119 [==============================] - 2s 20ms/step - loss: 4483.0083 - height_output_loss: 18.6683 - timber_stock_output_loss: 4450.6089 - basal_area_output_loss: 13.7317 - height_output_mae: 3.5452 - timber_stock_output_mae: 50.8055 - basal_area_output_mae: 2.7883 - val_loss: 4829.8496 - val_height_output_loss: 9.7138 - val_timber_stock_output_loss: 4807.2202 - val_basal_area_output_loss: 12.9149 - val_height_output_mae: 2.4879 - val_timber_stock_output_mae: 56.2547 - val_basal_area_output_mae: 2.8995\n",
            "Epoch 42/100\n",
            "119/119 [==============================] - 2s 20ms/step - loss: 4417.2949 - height_output_loss: 16.2921 - timber_stock_output_loss: 4388.0972 - basal_area_output_loss: 12.9063 - height_output_mae: 3.3366 - timber_stock_output_mae: 50.0139 - basal_area_output_mae: 2.6849 - val_loss: 4830.6802 - val_height_output_loss: 12.9778 - val_timber_stock_output_loss: 4804.5654 - val_basal_area_output_loss: 13.1374 - val_height_output_mae: 2.9689 - val_timber_stock_output_mae: 55.3378 - val_basal_area_output_mae: 2.8740\n",
            "Epoch 43/100\n",
            "119/119 [==============================] - 2s 21ms/step - loss: 4356.4849 - height_output_loss: 19.7513 - timber_stock_output_loss: 4322.8516 - basal_area_output_loss: 13.8817 - height_output_mae: 3.6719 - timber_stock_output_mae: 49.7645 - basal_area_output_mae: 2.7925 - val_loss: 4724.2471 - val_height_output_loss: 13.8016 - val_timber_stock_output_loss: 4693.0942 - val_basal_area_output_loss: 17.3513 - val_height_output_mae: 2.9081 - val_timber_stock_output_mae: 53.4862 - val_basal_area_output_mae: 3.4092\n",
            "Epoch 44/100\n",
            "119/119 [==============================] - 4s 36ms/step - loss: 4399.7642 - height_output_loss: 17.2365 - timber_stock_output_loss: 4368.5444 - basal_area_output_loss: 13.9826 - height_output_mae: 3.4118 - timber_stock_output_mae: 50.2905 - basal_area_output_mae: 2.8053 - val_loss: 4833.9287 - val_height_output_loss: 13.2478 - val_timber_stock_output_loss: 4807.5459 - val_basal_area_output_loss: 13.1351 - val_height_output_mae: 3.0468 - val_timber_stock_output_mae: 53.3494 - val_basal_area_output_mae: 2.7760\n",
            "Epoch 45/100\n",
            "119/119 [==============================] - 2s 21ms/step - loss: 4450.1055 - height_output_loss: 18.0797 - timber_stock_output_loss: 4418.1626 - basal_area_output_loss: 13.8639 - height_output_mae: 3.4758 - timber_stock_output_mae: 50.2932 - basal_area_output_mae: 2.7988 - val_loss: 5404.8867 - val_height_output_loss: 18.1133 - val_timber_stock_output_loss: 5372.0869 - val_basal_area_output_loss: 14.6861 - val_height_output_mae: 3.4380 - val_timber_stock_output_mae: 57.9660 - val_basal_area_output_mae: 2.9945\n",
            "Epoch 46/100\n",
            "119/119 [==============================] - 3s 21ms/step - loss: 4334.6680 - height_output_loss: 16.9548 - timber_stock_output_loss: 4304.0825 - basal_area_output_loss: 13.6294 - height_output_mae: 3.4036 - timber_stock_output_mae: 49.5838 - basal_area_output_mae: 2.7707 - val_loss: 4869.7207 - val_height_output_loss: 13.8064 - val_timber_stock_output_loss: 4842.6143 - val_basal_area_output_loss: 13.2994 - val_height_output_mae: 3.0952 - val_timber_stock_output_mae: 52.3623 - val_basal_area_output_mae: 2.7730\n",
            "Epoch 47/100\n",
            "119/119 [==============================] - 2s 20ms/step - loss: 4293.8232 - height_output_loss: 16.3128 - timber_stock_output_loss: 4264.9194 - basal_area_output_loss: 12.5902 - height_output_mae: 3.3321 - timber_stock_output_mae: 49.4155 - basal_area_output_mae: 2.6563 - val_loss: 4853.4946 - val_height_output_loss: 12.3795 - val_timber_stock_output_loss: 4827.9316 - val_basal_area_output_loss: 13.1842 - val_height_output_mae: 2.8353 - val_timber_stock_output_mae: 55.4148 - val_basal_area_output_mae: 2.8676\n",
            "Epoch 48/100\n",
            "119/119 [==============================] - 2s 20ms/step - loss: 4130.0239 - height_output_loss: 18.1279 - timber_stock_output_loss: 4099.4180 - basal_area_output_loss: 12.4785 - height_output_mae: 3.5111 - timber_stock_output_mae: 48.4530 - basal_area_output_mae: 2.6480 - val_loss: 4806.7930 - val_height_output_loss: 12.8601 - val_timber_stock_output_loss: 4780.8135 - val_basal_area_output_loss: 13.1187 - val_height_output_mae: 2.9026 - val_timber_stock_output_mae: 52.3378 - val_basal_area_output_mae: 2.7391\n",
            "Epoch 49/100\n",
            "119/119 [==============================] - 4s 35ms/step - loss: 4145.3926 - height_output_loss: 16.5192 - timber_stock_output_loss: 4116.4292 - basal_area_output_loss: 12.4443 - height_output_mae: 3.3602 - timber_stock_output_mae: 48.4693 - basal_area_output_mae: 2.6377 - val_loss: 4555.2715 - val_height_output_loss: 23.7759 - val_timber_stock_output_loss: 4514.0815 - val_basal_area_output_loss: 17.4139 - val_height_output_mae: 4.2762 - val_timber_stock_output_mae: 50.6328 - val_basal_area_output_mae: 3.0460\n",
            "Epoch 50/100\n",
            "119/119 [==============================] - 3s 22ms/step - loss: 4090.2339 - height_output_loss: 17.9175 - timber_stock_output_loss: 4059.3325 - basal_area_output_loss: 12.9830 - height_output_mae: 3.4743 - timber_stock_output_mae: 47.9798 - basal_area_output_mae: 2.7074 - val_loss: 5306.1475 - val_height_output_loss: 14.2548 - val_timber_stock_output_loss: 5277.8828 - val_basal_area_output_loss: 14.0101 - val_height_output_mae: 2.8906 - val_timber_stock_output_mae: 58.5603 - val_basal_area_output_mae: 2.9987\n",
            "Epoch 51/100\n",
            "119/119 [==============================] - 2s 20ms/step - loss: 4040.1277 - height_output_loss: 15.0300 - timber_stock_output_loss: 4013.0745 - basal_area_output_loss: 12.0228 - height_output_mae: 3.2102 - timber_stock_output_mae: 47.6523 - basal_area_output_mae: 2.5813 - val_loss: 4777.2422 - val_height_output_loss: 13.9202 - val_timber_stock_output_loss: 4749.5571 - val_basal_area_output_loss: 13.7656 - val_height_output_mae: 3.1429 - val_timber_stock_output_mae: 51.7040 - val_basal_area_output_mae: 2.8217\n",
            "Epoch 52/100\n",
            "119/119 [==============================] - 2s 21ms/step - loss: 4074.2061 - height_output_loss: 16.1925 - timber_stock_output_loss: 4045.2683 - basal_area_output_loss: 12.7459 - height_output_mae: 3.2810 - timber_stock_output_mae: 47.4251 - basal_area_output_mae: 2.6617 - val_loss: 4935.1479 - val_height_output_loss: 14.6896 - val_timber_stock_output_loss: 4904.2202 - val_basal_area_output_loss: 16.2372 - val_height_output_mae: 3.2096 - val_timber_stock_output_mae: 53.5211 - val_basal_area_output_mae: 2.9221\n",
            "Epoch 53/100\n",
            "119/119 [==============================] - 2s 20ms/step - loss: 4201.7192 - height_output_loss: 14.8950 - timber_stock_output_loss: 4174.2422 - basal_area_output_loss: 12.5817 - height_output_mae: 3.1320 - timber_stock_output_mae: 48.9168 - basal_area_output_mae: 2.6698 - val_loss: 5264.8125 - val_height_output_loss: 12.1297 - val_timber_stock_output_loss: 5238.3345 - val_basal_area_output_loss: 14.3491 - val_height_output_mae: 2.6972 - val_timber_stock_output_mae: 58.7459 - val_basal_area_output_mae: 3.0597\n",
            "Epoch 54/100\n",
            "119/119 [==============================] - 4s 34ms/step - loss: 4084.4097 - height_output_loss: 14.0376 - timber_stock_output_loss: 4058.5515 - basal_area_output_loss: 11.8198 - height_output_mae: 3.0486 - timber_stock_output_mae: 48.2537 - basal_area_output_mae: 2.5800 - val_loss: 4936.5977 - val_height_output_loss: 11.6363 - val_timber_stock_output_loss: 4910.5596 - val_basal_area_output_loss: 14.4016 - val_height_output_mae: 2.6891 - val_timber_stock_output_mae: 55.0481 - val_basal_area_output_mae: 3.0374\n",
            "Epoch 55/100\n",
            "119/119 [==============================] - 3s 24ms/step - loss: 3955.2480 - height_output_loss: 13.3732 - timber_stock_output_loss: 3930.1255 - basal_area_output_loss: 11.7499 - height_output_mae: 2.9983 - timber_stock_output_mae: 46.9708 - basal_area_output_mae: 2.5703 - val_loss: 4727.5449 - val_height_output_loss: 11.2261 - val_timber_stock_output_loss: 4703.5176 - val_basal_area_output_loss: 12.8009 - val_height_output_mae: 2.7067 - val_timber_stock_output_mae: 52.2157 - val_basal_area_output_mae: 2.7059\n",
            "Epoch 56/100\n",
            "119/119 [==============================] - 2s 20ms/step - loss: 3956.6223 - height_output_loss: 14.0518 - timber_stock_output_loss: 3930.5974 - basal_area_output_loss: 11.9748 - height_output_mae: 3.0271 - timber_stock_output_mae: 47.0866 - basal_area_output_mae: 2.5965 - val_loss: 4844.9546 - val_height_output_loss: 12.8053 - val_timber_stock_output_loss: 4817.8643 - val_basal_area_output_loss: 14.2853 - val_height_output_mae: 3.0128 - val_timber_stock_output_mae: 53.6689 - val_basal_area_output_mae: 2.7981\n",
            "Epoch 57/100\n",
            "119/119 [==============================] - 2s 20ms/step - loss: 4082.7024 - height_output_loss: 14.3475 - timber_stock_output_loss: 4055.7019 - basal_area_output_loss: 12.6523 - height_output_mae: 3.0245 - timber_stock_output_mae: 47.4956 - basal_area_output_mae: 2.6571 - val_loss: 4734.1792 - val_height_output_loss: 7.5793 - val_timber_stock_output_loss: 4713.7773 - val_basal_area_output_loss: 12.8218 - val_height_output_mae: 2.0589 - val_timber_stock_output_mae: 52.3642 - val_basal_area_output_mae: 2.8718\n",
            "Epoch 58/100\n",
            "119/119 [==============================] - 2s 20ms/step - loss: 4123.3252 - height_output_loss: 11.8107 - timber_stock_output_loss: 4099.1328 - basal_area_output_loss: 12.3811 - height_output_mae: 2.7136 - timber_stock_output_mae: 48.1862 - basal_area_output_mae: 2.6478 - val_loss: 5046.5068 - val_height_output_loss: 8.5977 - val_timber_stock_output_loss: 5024.4995 - val_basal_area_output_loss: 13.4097 - val_height_output_mae: 2.3126 - val_timber_stock_output_mae: 54.5658 - val_basal_area_output_mae: 2.7773\n",
            "Epoch 59/100\n",
            "119/119 [==============================] - 4s 30ms/step - loss: 4329.1724 - height_output_loss: 11.5091 - timber_stock_output_loss: 4304.3853 - basal_area_output_loss: 13.2776 - height_output_mae: 2.6942 - timber_stock_output_mae: 48.9715 - basal_area_output_mae: 2.7409 - val_loss: 4816.4976 - val_height_output_loss: 12.4978 - val_timber_stock_output_loss: 4787.2837 - val_basal_area_output_loss: 16.7156 - val_height_output_mae: 3.0334 - val_timber_stock_output_mae: 53.7724 - val_basal_area_output_mae: 2.9753\n",
            "Epoch 60/100\n",
            "119/119 [==============================] - 3s 28ms/step - loss: 4037.5830 - height_output_loss: 11.2900 - timber_stock_output_loss: 4014.1160 - basal_area_output_loss: 12.1754 - height_output_mae: 2.6410 - timber_stock_output_mae: 47.8803 - basal_area_output_mae: 2.6302 - val_loss: 5015.3608 - val_height_output_loss: 7.2639 - val_timber_stock_output_loss: 4994.3823 - val_basal_area_output_loss: 13.7142 - val_height_output_mae: 1.9631 - val_timber_stock_output_mae: 56.3023 - val_basal_area_output_mae: 2.9687\n",
            "Epoch 61/100\n",
            "119/119 [==============================] - 2s 21ms/step - loss: 3903.4800 - height_output_loss: 11.1055 - timber_stock_output_loss: 3881.0037 - basal_area_output_loss: 11.3695 - height_output_mae: 2.6343 - timber_stock_output_mae: 47.1767 - basal_area_output_mae: 2.5378 - val_loss: 4808.1904 - val_height_output_loss: 9.6108 - val_timber_stock_output_loss: 4785.4214 - val_basal_area_output_loss: 13.1569 - val_height_output_mae: 2.5188 - val_timber_stock_output_mae: 54.0692 - val_basal_area_output_mae: 2.7591\n",
            "Epoch 62/100\n",
            "119/119 [==============================] - 2s 20ms/step - loss: 3935.2654 - height_output_loss: 10.7780 - timber_stock_output_loss: 3912.9194 - basal_area_output_loss: 11.5677 - height_output_mae: 2.5816 - timber_stock_output_mae: 47.1296 - basal_area_output_mae: 2.5563 - val_loss: 4944.8779 - val_height_output_loss: 8.7666 - val_timber_stock_output_loss: 4922.7456 - val_basal_area_output_loss: 13.3647 - val_height_output_mae: 2.3009 - val_timber_stock_output_mae: 53.2018 - val_basal_area_output_mae: 2.7844\n",
            "Epoch 63/100\n",
            "119/119 [==============================] - 2s 20ms/step - loss: 3811.3430 - height_output_loss: 12.6923 - timber_stock_output_loss: 3786.7915 - basal_area_output_loss: 11.8609 - height_output_mae: 2.8245 - timber_stock_output_mae: 46.4422 - basal_area_output_mae: 2.5829 - val_loss: 5454.8950 - val_height_output_loss: 12.0335 - val_timber_stock_output_loss: 5426.0957 - val_basal_area_output_loss: 16.7654 - val_height_output_mae: 2.6407 - val_timber_stock_output_mae: 55.9693 - val_basal_area_output_mae: 3.2370\n",
            "Epoch 64/100\n",
            "119/119 [==============================] - 3s 29ms/step - loss: 3867.4080 - height_output_loss: 11.6399 - timber_stock_output_loss: 3844.1538 - basal_area_output_loss: 11.6142 - height_output_mae: 2.6672 - timber_stock_output_mae: 46.5321 - basal_area_output_mae: 2.5673 - val_loss: 5890.2710 - val_height_output_loss: 8.4386 - val_timber_stock_output_loss: 5865.6709 - val_basal_area_output_loss: 16.1626 - val_height_output_mae: 2.1505 - val_timber_stock_output_mae: 63.4365 - val_basal_area_output_mae: 3.3300\n",
            "Epoch 65/100\n",
            "119/119 [==============================] - 4s 30ms/step - loss: 4013.3662 - height_output_loss: 13.3505 - timber_stock_output_loss: 3987.5867 - basal_area_output_loss: 12.4296 - height_output_mae: 2.8920 - timber_stock_output_mae: 47.3966 - basal_area_output_mae: 2.6707 - val_loss: 4922.3296 - val_height_output_loss: 10.0200 - val_timber_stock_output_loss: 4898.7251 - val_basal_area_output_loss: 13.5846 - val_height_output_mae: 2.5601 - val_timber_stock_output_mae: 54.8716 - val_basal_area_output_mae: 2.7627\n",
            "Epoch 66/100\n",
            "119/119 [==============================] - 2s 20ms/step - loss: 3741.9790 - height_output_loss: 11.6236 - timber_stock_output_loss: 3718.8140 - basal_area_output_loss: 11.5424 - height_output_mae: 2.6941 - timber_stock_output_mae: 45.7635 - basal_area_output_mae: 2.5413 - val_loss: 4658.0771 - val_height_output_loss: 9.5594 - val_timber_stock_output_loss: 4634.9819 - val_basal_area_output_loss: 13.5364 - val_height_output_mae: 2.5271 - val_timber_stock_output_mae: 52.6028 - val_basal_area_output_mae: 2.7436\n",
            "Epoch 67/100\n",
            "119/119 [==============================] - 2s 20ms/step - loss: 3770.0845 - height_output_loss: 12.1846 - timber_stock_output_loss: 3746.1538 - basal_area_output_loss: 11.7468 - height_output_mae: 2.7659 - timber_stock_output_mae: 45.8859 - basal_area_output_mae: 2.5872 - val_loss: 5269.0952 - val_height_output_loss: 9.5013 - val_timber_stock_output_loss: 5245.0083 - val_basal_area_output_loss: 14.5853 - val_height_output_mae: 2.2960 - val_timber_stock_output_mae: 57.4756 - val_basal_area_output_mae: 3.0613\n",
            "Epoch 68/100\n",
            "119/119 [==============================] - 2s 20ms/step - loss: 3744.3066 - height_output_loss: 11.1817 - timber_stock_output_loss: 3721.7441 - basal_area_output_loss: 11.3807 - height_output_mae: 2.6385 - timber_stock_output_mae: 45.9836 - basal_area_output_mae: 2.5470 - val_loss: 5038.4277 - val_height_output_loss: 7.9791 - val_timber_stock_output_loss: 5016.2607 - val_basal_area_output_loss: 14.1877 - val_height_output_mae: 2.0271 - val_timber_stock_output_mae: 58.5336 - val_basal_area_output_mae: 3.1320\n",
            "Epoch 69/100\n",
            "119/119 [==============================] - 3s 23ms/step - loss: 3792.8586 - height_output_loss: 11.9523 - timber_stock_output_loss: 3768.7876 - basal_area_output_loss: 12.1187 - height_output_mae: 2.7390 - timber_stock_output_mae: 46.1435 - basal_area_output_mae: 2.6330 - val_loss: 5089.5166 - val_height_output_loss: 11.3449 - val_timber_stock_output_loss: 5060.4639 - val_basal_area_output_loss: 17.7089 - val_height_output_mae: 2.5197 - val_timber_stock_output_mae: 55.4087 - val_basal_area_output_mae: 3.4197\n",
            "Epoch 70/100\n",
            "119/119 [==============================] - 4s 34ms/step - loss: 3767.8591 - height_output_loss: 11.0759 - timber_stock_output_loss: 3745.3848 - basal_area_output_loss: 11.3985 - height_output_mae: 2.6112 - timber_stock_output_mae: 45.8375 - basal_area_output_mae: 2.5229 - val_loss: 4570.5405 - val_height_output_loss: 7.1288 - val_timber_stock_output_loss: 4550.9204 - val_basal_area_output_loss: 12.4917 - val_height_output_mae: 1.9548 - val_timber_stock_output_mae: 52.8832 - val_basal_area_output_mae: 2.7586\n",
            "Epoch 71/100\n",
            "119/119 [==============================] - 2s 20ms/step - loss: 3732.6755 - height_output_loss: 10.0709 - timber_stock_output_loss: 3711.6411 - basal_area_output_loss: 10.9625 - height_output_mae: 2.4664 - timber_stock_output_mae: 45.8186 - basal_area_output_mae: 2.4836 - val_loss: 4751.5859 - val_height_output_loss: 7.9148 - val_timber_stock_output_loss: 4730.1772 - val_basal_area_output_loss: 13.4939 - val_height_output_mae: 2.1296 - val_timber_stock_output_mae: 52.0041 - val_basal_area_output_mae: 2.8633\n",
            "Epoch 72/100\n",
            "119/119 [==============================] - 2s 21ms/step - loss: 3725.5396 - height_output_loss: 10.3954 - timber_stock_output_loss: 3704.1763 - basal_area_output_loss: 10.9671 - height_output_mae: 2.5440 - timber_stock_output_mae: 45.7722 - basal_area_output_mae: 2.4908 - val_loss: 4892.9756 - val_height_output_loss: 7.1414 - val_timber_stock_output_loss: 4872.8618 - val_basal_area_output_loss: 12.9715 - val_height_output_mae: 2.0158 - val_timber_stock_output_mae: 55.5564 - val_basal_area_output_mae: 2.7919\n",
            "Epoch 73/100\n",
            "119/119 [==============================] - 2s 21ms/step - loss: 3773.6982 - height_output_loss: 10.3846 - timber_stock_output_loss: 3751.9075 - basal_area_output_loss: 11.4078 - height_output_mae: 2.4955 - timber_stock_output_mae: 45.7611 - basal_area_output_mae: 2.5266 - val_loss: 5173.9971 - val_height_output_loss: 7.0758 - val_timber_stock_output_loss: 5152.2822 - val_basal_area_output_loss: 14.6386 - val_height_output_mae: 1.9764 - val_timber_stock_output_mae: 58.5809 - val_basal_area_output_mae: 3.1477\n",
            "Epoch 74/100\n",
            "119/119 [==============================] - 3s 22ms/step - loss: 3706.8967 - height_output_loss: 10.2694 - timber_stock_output_loss: 3685.4526 - basal_area_output_loss: 11.1762 - height_output_mae: 2.5149 - timber_stock_output_mae: 45.3394 - basal_area_output_mae: 2.4991 - val_loss: 4758.5151 - val_height_output_loss: 7.8524 - val_timber_stock_output_loss: 4736.7017 - val_basal_area_output_loss: 13.9594 - val_height_output_mae: 2.0633 - val_timber_stock_output_mae: 54.0390 - val_basal_area_output_mae: 3.0229\n",
            "Epoch 75/100\n",
            "119/119 [==============================] - 4s 37ms/step - loss: 3630.6838 - height_output_loss: 12.4127 - timber_stock_output_loss: 3606.5935 - basal_area_output_loss: 11.6782 - height_output_mae: 2.8016 - timber_stock_output_mae: 45.1719 - basal_area_output_mae: 2.5851 - val_loss: 4798.0029 - val_height_output_loss: 9.6288 - val_timber_stock_output_loss: 4775.1812 - val_basal_area_output_loss: 13.1926 - val_height_output_mae: 2.5215 - val_timber_stock_output_mae: 53.3623 - val_basal_area_output_mae: 2.7007\n",
            "Epoch 76/100\n",
            "119/119 [==============================] - 2s 21ms/step - loss: 3542.4463 - height_output_loss: 10.4243 - timber_stock_output_loss: 3521.1802 - basal_area_output_loss: 10.8420 - height_output_mae: 2.5504 - timber_stock_output_mae: 44.7957 - basal_area_output_mae: 2.4816 - val_loss: 4808.8862 - val_height_output_loss: 8.0821 - val_timber_stock_output_loss: 4787.2002 - val_basal_area_output_loss: 13.6036 - val_height_output_mae: 2.1663 - val_timber_stock_output_mae: 53.1850 - val_basal_area_output_mae: 2.7661\n",
            "Epoch 77/100\n",
            "119/119 [==============================] - 2s 21ms/step - loss: 3385.7600 - height_output_loss: 10.7665 - timber_stock_output_loss: 3364.6787 - basal_area_output_loss: 10.3144 - height_output_mae: 2.5526 - timber_stock_output_mae: 43.3722 - basal_area_output_mae: 2.3982 - val_loss: 4732.2896 - val_height_output_loss: 7.9210 - val_timber_stock_output_loss: 4711.3184 - val_basal_area_output_loss: 13.0511 - val_height_output_mae: 2.2180 - val_timber_stock_output_mae: 52.6687 - val_basal_area_output_mae: 2.7557\n",
            "Epoch 78/100\n",
            "119/119 [==============================] - 2s 21ms/step - loss: 3475.5242 - height_output_loss: 10.8900 - timber_stock_output_loss: 3453.9893 - basal_area_output_loss: 10.6454 - height_output_mae: 2.5840 - timber_stock_output_mae: 44.1194 - basal_area_output_mae: 2.4645 - val_loss: 4724.1221 - val_height_output_loss: 8.7782 - val_timber_stock_output_loss: 4702.5942 - val_basal_area_output_loss: 12.7501 - val_height_output_mae: 2.2860 - val_timber_stock_output_mae: 50.3822 - val_basal_area_output_mae: 2.7022\n",
            "Epoch 79/100\n",
            "119/119 [==============================] - 2s 21ms/step - loss: 3419.8013 - height_output_loss: 10.9729 - timber_stock_output_loss: 3398.2976 - basal_area_output_loss: 10.5295 - height_output_mae: 2.5971 - timber_stock_output_mae: 43.4004 - basal_area_output_mae: 2.4228 - val_loss: 5289.7075 - val_height_output_loss: 8.4818 - val_timber_stock_output_loss: 5267.4419 - val_basal_area_output_loss: 13.7836 - val_height_output_mae: 2.2304 - val_timber_stock_output_mae: 56.0923 - val_basal_area_output_mae: 2.8862\n",
            "Epoch 80/100\n",
            "119/119 [==============================] - 4s 36ms/step - loss: 3433.7197 - height_output_loss: 11.2287 - timber_stock_output_loss: 3411.7246 - basal_area_output_loss: 10.7662 - height_output_mae: 2.6265 - timber_stock_output_mae: 43.5106 - basal_area_output_mae: 2.4474 - val_loss: 4854.4268 - val_height_output_loss: 7.7392 - val_timber_stock_output_loss: 4833.5942 - val_basal_area_output_loss: 13.0926 - val_height_output_mae: 2.1166 - val_timber_stock_output_mae: 53.3512 - val_basal_area_output_mae: 2.7587\n",
            "Epoch 81/100\n",
            "119/119 [==============================] - 3s 23ms/step - loss: 3244.8223 - height_output_loss: 10.2434 - timber_stock_output_loss: 3224.6450 - basal_area_output_loss: 9.9332 - height_output_mae: 2.5387 - timber_stock_output_mae: 42.7549 - basal_area_output_mae: 2.3590 - val_loss: 4894.4170 - val_height_output_loss: 7.6965 - val_timber_stock_output_loss: 4873.3945 - val_basal_area_output_loss: 13.3253 - val_height_output_mae: 2.1316 - val_timber_stock_output_mae: 51.4893 - val_basal_area_output_mae: 2.7677\n",
            "Epoch 82/100\n",
            "119/119 [==============================] - 3s 21ms/step - loss: 3442.0564 - height_output_loss: 10.6157 - timber_stock_output_loss: 3420.5874 - basal_area_output_loss: 10.8546 - height_output_mae: 2.5492 - timber_stock_output_mae: 44.1902 - basal_area_output_mae: 2.4821 - val_loss: 4985.1470 - val_height_output_loss: 7.6134 - val_timber_stock_output_loss: 4963.9644 - val_basal_area_output_loss: 13.5687 - val_height_output_mae: 1.9820 - val_timber_stock_output_mae: 55.8925 - val_basal_area_output_mae: 2.9496\n",
            "Epoch 83/100\n",
            "119/119 [==============================] - 2s 21ms/step - loss: 3332.9746 - height_output_loss: 10.0551 - timber_stock_output_loss: 3313.1211 - basal_area_output_loss: 9.7984 - height_output_mae: 2.4893 - timber_stock_output_mae: 42.8640 - basal_area_output_mae: 2.3313 - val_loss: 4960.8003 - val_height_output_loss: 7.2671 - val_timber_stock_output_loss: 4939.6484 - val_basal_area_output_loss: 13.8852 - val_height_output_mae: 1.9778 - val_timber_stock_output_mae: 54.3826 - val_basal_area_output_mae: 2.9361\n",
            "Epoch 84/100\n",
            "119/119 [==============================] - 2s 21ms/step - loss: 3343.6626 - height_output_loss: 10.3318 - timber_stock_output_loss: 3323.1941 - basal_area_output_loss: 10.1380 - height_output_mae: 2.5092 - timber_stock_output_mae: 42.9990 - basal_area_output_mae: 2.3844 - val_loss: 5168.2305 - val_height_output_loss: 7.5383 - val_timber_stock_output_loss: 5146.5273 - val_basal_area_output_loss: 14.1643 - val_height_output_mae: 2.0201 - val_timber_stock_output_mae: 55.7095 - val_basal_area_output_mae: 2.9600\n",
            "Epoch 85/100\n",
            "119/119 [==============================] - 4s 35ms/step - loss: 3249.3110 - height_output_loss: 10.2046 - timber_stock_output_loss: 3229.2078 - basal_area_output_loss: 9.9000 - height_output_mae: 2.5147 - timber_stock_output_mae: 42.3492 - basal_area_output_mae: 2.3553 - val_loss: 5297.1597 - val_height_output_loss: 8.0813 - val_timber_stock_output_loss: 5274.1733 - val_basal_area_output_loss: 14.9044 - val_height_output_mae: 2.0966 - val_timber_stock_output_mae: 57.1959 - val_basal_area_output_mae: 3.0788\n",
            "Epoch 86/100\n",
            "119/119 [==============================] - 3s 23ms/step - loss: 3398.2090 - height_output_loss: 10.0621 - timber_stock_output_loss: 3377.8813 - basal_area_output_loss: 10.2657 - height_output_mae: 2.5038 - timber_stock_output_mae: 43.4576 - basal_area_output_mae: 2.3982 - val_loss: 5294.6099 - val_height_output_loss: 8.3862 - val_timber_stock_output_loss: 5269.8066 - val_basal_area_output_loss: 16.4175 - val_height_output_mae: 2.1563 - val_timber_stock_output_mae: 56.9664 - val_basal_area_output_mae: 3.2497\n",
            "Epoch 87/100\n",
            "119/119 [==============================] - 3s 21ms/step - loss: 3220.8345 - height_output_loss: 11.1529 - timber_stock_output_loss: 3199.3655 - basal_area_output_loss: 10.3148 - height_output_mae: 2.5984 - timber_stock_output_mae: 42.3876 - basal_area_output_mae: 2.4017 - val_loss: 4874.9634 - val_height_output_loss: 9.7089 - val_timber_stock_output_loss: 4849.9634 - val_basal_area_output_loss: 15.2905 - val_height_output_mae: 2.5792 - val_timber_stock_output_mae: 52.3813 - val_basal_area_output_mae: 2.8549\n",
            "Epoch 88/100\n",
            "119/119 [==============================] - 2s 21ms/step - loss: 3239.0728 - height_output_loss: 10.8275 - timber_stock_output_loss: 3217.8821 - basal_area_output_loss: 10.3641 - height_output_mae: 2.5791 - timber_stock_output_mae: 42.2333 - basal_area_output_mae: 2.4068 - val_loss: 4939.7856 - val_height_output_loss: 7.7060 - val_timber_stock_output_loss: 4918.8140 - val_basal_area_output_loss: 13.2658 - val_height_output_mae: 2.0347 - val_timber_stock_output_mae: 54.6456 - val_basal_area_output_mae: 2.8629\n",
            "Epoch 89/100\n",
            "119/119 [==============================] - 2s 21ms/step - loss: 3219.3530 - height_output_loss: 9.6214 - timber_stock_output_loss: 3199.9714 - basal_area_output_loss: 9.7606 - height_output_mae: 2.4338 - timber_stock_output_mae: 42.1865 - basal_area_output_mae: 2.3330 - val_loss: 4936.0703 - val_height_output_loss: 7.8274 - val_timber_stock_output_loss: 4915.2520 - val_basal_area_output_loss: 12.9904 - val_height_output_mae: 2.1675 - val_timber_stock_output_mae: 55.5468 - val_basal_area_output_mae: 2.8647\n",
            "Epoch 90/100\n",
            "119/119 [==============================] - 4s 35ms/step - loss: 3235.7854 - height_output_loss: 9.8663 - timber_stock_output_loss: 3215.9656 - basal_area_output_loss: 9.9520 - height_output_mae: 2.4610 - timber_stock_output_mae: 42.2774 - basal_area_output_mae: 2.3508 - val_loss: 4833.0249 - val_height_output_loss: 7.7036 - val_timber_stock_output_loss: 4812.0669 - val_basal_area_output_loss: 13.2543 - val_height_output_mae: 2.0392 - val_timber_stock_output_mae: 54.3051 - val_basal_area_output_mae: 2.8912\n",
            "Epoch 91/100\n",
            "119/119 [==============================] - 3s 23ms/step - loss: 3174.3577 - height_output_loss: 10.4768 - timber_stock_output_loss: 3153.9485 - basal_area_output_loss: 9.9332 - height_output_mae: 2.5243 - timber_stock_output_mae: 41.6743 - basal_area_output_mae: 2.3547 - val_loss: 5542.1104 - val_height_output_loss: 8.9784 - val_timber_stock_output_loss: 5519.0659 - val_basal_area_output_loss: 14.0657 - val_height_output_mae: 2.3972 - val_timber_stock_output_mae: 57.5124 - val_basal_area_output_mae: 2.8664\n",
            "Epoch 92/100\n",
            "119/119 [==============================] - 3s 22ms/step - loss: 3327.3191 - height_output_loss: 9.4129 - timber_stock_output_loss: 3307.6882 - basal_area_output_loss: 10.2188 - height_output_mae: 2.4006 - timber_stock_output_mae: 42.9700 - basal_area_output_mae: 2.3956 - val_loss: 5305.8291 - val_height_output_loss: 12.9351 - val_timber_stock_output_loss: 5274.9487 - val_basal_area_output_loss: 17.9458 - val_height_output_mae: 2.7586 - val_timber_stock_output_mae: 57.6667 - val_basal_area_output_mae: 3.4794\n",
            "Epoch 93/100\n",
            "119/119 [==============================] - 3s 21ms/step - loss: 3318.0767 - height_output_loss: 9.6281 - timber_stock_output_loss: 3298.4358 - basal_area_output_loss: 10.0126 - height_output_mae: 2.4169 - timber_stock_output_mae: 43.0491 - basal_area_output_mae: 2.3589 - val_loss: 5376.4653 - val_height_output_loss: 7.8125 - val_timber_stock_output_loss: 5354.5220 - val_basal_area_output_loss: 14.1311 - val_height_output_mae: 2.0152 - val_timber_stock_output_mae: 57.9164 - val_basal_area_output_mae: 2.9827\n",
            "Epoch 94/100\n",
            "119/119 [==============================] - 2s 21ms/step - loss: 3257.7986 - height_output_loss: 9.0715 - timber_stock_output_loss: 3238.6624 - basal_area_output_loss: 10.0651 - height_output_mae: 2.3495 - timber_stock_output_mae: 42.5949 - basal_area_output_mae: 2.3799 - val_loss: 5021.3804 - val_height_output_loss: 10.3674 - val_timber_stock_output_loss: 4997.2637 - val_basal_area_output_loss: 13.7508 - val_height_output_mae: 2.6784 - val_timber_stock_output_mae: 54.2251 - val_basal_area_output_mae: 2.7651\n",
            "Epoch 95/100\n",
            "119/119 [==============================] - 4s 35ms/step - loss: 3104.3340 - height_output_loss: 9.7536 - timber_stock_output_loss: 3085.1035 - basal_area_output_loss: 9.4766 - height_output_mae: 2.4260 - timber_stock_output_mae: 41.5778 - basal_area_output_mae: 2.3039 - val_loss: 4884.1045 - val_height_output_loss: 7.5587 - val_timber_stock_output_loss: 4863.0342 - val_basal_area_output_loss: 13.5109 - val_height_output_mae: 2.0734 - val_timber_stock_output_mae: 53.3807 - val_basal_area_output_mae: 2.8601\n",
            "Epoch 96/100\n",
            "119/119 [==============================] - 3s 24ms/step - loss: 3035.3357 - height_output_loss: 9.7790 - timber_stock_output_loss: 3016.2986 - basal_area_output_loss: 9.2589 - height_output_mae: 2.4503 - timber_stock_output_mae: 41.3309 - basal_area_output_mae: 2.2926 - val_loss: 5389.6631 - val_height_output_loss: 10.9048 - val_timber_stock_output_loss: 5359.3555 - val_basal_area_output_loss: 19.4036 - val_height_output_mae: 2.4947 - val_timber_stock_output_mae: 55.8989 - val_basal_area_output_mae: 3.5308\n",
            "Epoch 97/100\n",
            "119/119 [==============================] - 3s 21ms/step - loss: 3117.1602 - height_output_loss: 9.5432 - timber_stock_output_loss: 3097.9045 - basal_area_output_loss: 9.7126 - height_output_mae: 2.4090 - timber_stock_output_mae: 41.7080 - basal_area_output_mae: 2.3374 - val_loss: 4971.3955 - val_height_output_loss: 8.0269 - val_timber_stock_output_loss: 4948.9639 - val_basal_area_output_loss: 14.4036 - val_height_output_mae: 2.1122 - val_timber_stock_output_mae: 52.8029 - val_basal_area_output_mae: 2.9537\n",
            "Epoch 98/100\n",
            "119/119 [==============================] - 2s 21ms/step - loss: 2990.7395 - height_output_loss: 9.5255 - timber_stock_output_loss: 2971.8162 - basal_area_output_loss: 9.3988 - height_output_mae: 2.4176 - timber_stock_output_mae: 41.1545 - basal_area_output_mae: 2.2942 - val_loss: 5043.2666 - val_height_output_loss: 8.2475 - val_timber_stock_output_loss: 5021.5566 - val_basal_area_output_loss: 13.4614 - val_height_output_mae: 2.2225 - val_timber_stock_output_mae: 53.9870 - val_basal_area_output_mae: 2.8379\n",
            "Epoch 99/100\n",
            "119/119 [==============================] - 3s 21ms/step - loss: 3038.3486 - height_output_loss: 9.6375 - timber_stock_output_loss: 3019.4524 - basal_area_output_loss: 9.2588 - height_output_mae: 2.4418 - timber_stock_output_mae: 41.2699 - basal_area_output_mae: 2.2779 - val_loss: 4815.6426 - val_height_output_loss: 7.2608 - val_timber_stock_output_loss: 4795.5469 - val_basal_area_output_loss: 12.8348 - val_height_output_mae: 2.0069 - val_timber_stock_output_mae: 52.8768 - val_basal_area_output_mae: 2.7103\n",
            "Epoch 100/100\n",
            "119/119 [==============================] - 4s 34ms/step - loss: 2949.3479 - height_output_loss: 9.4830 - timber_stock_output_loss: 2930.7017 - basal_area_output_loss: 9.1625 - height_output_mae: 2.4185 - timber_stock_output_mae: 40.4623 - basal_area_output_mae: 2.2588 - val_loss: 4963.6543 - val_height_output_loss: 7.3358 - val_timber_stock_output_loss: 4943.5020 - val_basal_area_output_loss: 12.8174 - val_height_output_mae: 2.0016 - val_timber_stock_output_mae: 54.2926 - val_basal_area_output_mae: 2.7562\n"
          ]
        }
      ]
    },
    {
      "cell_type": "markdown",
      "source": [
        "Оценка модели"
      ],
      "metadata": {
        "id": "7pFIHyWQSR0H"
      }
    },
    {
      "cell_type": "code",
      "source": [
        "loss, height_loss, timber_stock_loss, basal_area_loss, height_mae, timber_stock_mae, basal_area_mae = model.evaluate(X_test_scaled, [y_height_test, y_timber_stock_test, y_basal_area_test])"
      ],
      "metadata": {
        "colab": {
          "base_uri": "https://localhost:8080/"
        },
        "id": "_j_9xOXEUBJW",
        "outputId": "8ab9fbc0-17f6-44dc-d0bd-fa6b2e33e00d"
      },
      "execution_count": null,
      "outputs": [
        {
          "output_type": "stream",
          "name": "stdout",
          "text": [
            "30/30 [==============================] - 0s 5ms/step - loss: 4963.6543 - height_output_loss: 7.3358 - timber_stock_output_loss: 4943.5020 - basal_area_output_loss: 12.8174 - height_output_mae: 2.0016 - timber_stock_output_mae: 54.2926 - basal_area_output_mae: 2.7562\n"
          ]
        }
      ]
    },
    {
      "cell_type": "code",
      "source": [
        "y_pred = model.predict(X_test_scaled)\n",
        "y_pred_height = y_pred[0].ravel()\n",
        "y_pred_timber_stock = y_pred[1].ravel()\n",
        "y_pred_basal_area = y_pred[2].ravel()"
      ],
      "metadata": {
        "colab": {
          "base_uri": "https://localhost:8080/"
        },
        "id": "8hppToyJUGH_",
        "outputId": "dbec6486-dda4-45b6-e30e-d16b63055e40"
      },
      "execution_count": null,
      "outputs": [
        {
          "output_type": "stream",
          "name": "stdout",
          "text": [
            "30/30 [==============================] - 0s 5ms/step\n"
          ]
        }
      ]
    },
    {
      "cell_type": "code",
      "source": [
        "r_sq_height = r2_score(y_height_test, y_pred_height)\n",
        "mape_height = np.mean(np.abs((y_height_test - y_pred_height) / y_height_test)) * 100\n",
        "mae_height = mean_absolute_error(y_height_test, y_pred_height)"
      ],
      "metadata": {
        "id": "trixJq2zUMWT"
      },
      "execution_count": null,
      "outputs": []
    },
    {
      "cell_type": "code",
      "source": [
        "r_sq_timber_stock = r2_score(y_timber_stock_test, y_pred_timber_stock)\n",
        "mape_timber_stock = np.mean(np.abs((y_timber_stock_test - y_pred_timber_stock) / y_timber_stock_test)) * 100\n",
        "mae_timber_stock = mean_absolute_error(y_timber_stock_test, y_pred_timber_stock)"
      ],
      "metadata": {
        "id": "F3GyX8KbVGpC"
      },
      "execution_count": null,
      "outputs": []
    },
    {
      "cell_type": "code",
      "source": [
        "r_sq_basal_area = r2_score(y_basal_area_test, y_pred_basal_area)\n",
        "mape_basal_area = np.mean(np.abs((y_basal_area_test - y_pred_basal_area) / y_basal_area_test)) * 100\n",
        "mae_basal_area = mean_absolute_error(y_basal_area_test, y_pred_basal_area)"
      ],
      "metadata": {
        "id": "-4XVVQdUVQIg"
      },
      "execution_count": null,
      "outputs": []
    },
    {
      "cell_type": "code",
      "source": [
        "print(f'Coefficient of determination (height): {r_sq_height}')\n",
        "print(f'MAPE (height): {mape_height}')\n",
        "print(f'MAE (height): {mae_height}')\n",
        "print(f'MSE (height): {mean_squared_error(y_height_test, y_pred_height)}\\n')\n",
        "\n",
        "print(f'Coefficient of determination (timber stock): {r_sq_timber_stock}')\n",
        "print(f'MAPE (timber stock): {mape_timber_stock}')\n",
        "print(f'MAE (timber stock): {mae_timber_stock}')\n",
        "print(f'MSE (timber stock): {mean_squared_error(y_timber_stock_test, y_pred_timber_stock)}\\n')\n",
        "\n",
        "print(f'Coefficient of determination (basal area): {r_sq_basal_area}')\n",
        "print(f'MAPE (basal area): {mape_basal_area}')\n",
        "print(f'MAE (basal area): {mae_basal_area}')\n",
        "print(f'MSE (basal area): {mean_squared_error(y_basal_area_test, y_pred_basal_area)}\\n')\n"
      ],
      "metadata": {
        "colab": {
          "base_uri": "https://localhost:8080/"
        },
        "id": "1rDWBuCrVU9p",
        "outputId": "a292ecaa-8d91-4f77-cca9-ca5dfe4a5d6d"
      },
      "execution_count": null,
      "outputs": [
        {
          "output_type": "stream",
          "name": "stdout",
          "text": [
            "Coefficient of determination (height): 0.1076692797318517\n",
            "MAPE (height): 16.355892097068597\n",
            "MAE (height): 2.0016480339001905\n",
            "MSE (height): 7.335814769860439\n",
            "\n",
            "Coefficient of determination (timber stock): 0.2910347141545454\n",
            "MAPE (timber stock): 56.76249552167884\n",
            "MAE (timber stock): 54.29263734716694\n",
            "MSE (timber stock): 4943.501360015251\n",
            "\n",
            "Coefficient of determination (basal area): 0.2743216726919264\n",
            "MAPE (basal area): 36.24183246946035\n",
            "MAE (basal area): 2.756155158684735\n",
            "MSE (basal area): 12.817389503754153\n",
            "\n"
          ]
        }
      ]
    },
    {
      "cell_type": "markdown",
      "source": [
        "Добавление XGB"
      ],
      "metadata": {
        "id": "SyE3DBx3SYyw"
      }
    },
    {
      "cell_type": "code",
      "source": [
        "model_xgb_height = xgb.XGBRegressor(objective='reg:squarederror')\n",
        "model_xgb_height.fit(X_train_scaled, y_height_train)\n",
        "\n",
        "model_xgb_timber_stock = xgb.XGBRegressor(objective='reg:squarederror')\n",
        "model_xgb_timber_stock.fit(X_train_scaled, y_timber_stock_train)\n",
        "\n",
        "model_xgb_basal_area = xgb.XGBRegressor(objective='reg:squarederror')\n",
        "model_xgb_basal_area.fit(X_train_scaled, y_basal_area_train)"
      ],
      "metadata": {
        "colab": {
          "base_uri": "https://localhost:8080/",
          "height": 244
        },
        "id": "RNu8vyLvooa-",
        "outputId": "9299e098-4061-45a6-b537-4ce85df3104f"
      },
      "execution_count": null,
      "outputs": [
        {
          "output_type": "execute_result",
          "data": {
            "text/plain": [
              "XGBRegressor(base_score=None, booster=None, callbacks=None,\n",
              "             colsample_bylevel=None, colsample_bynode=None,\n",
              "             colsample_bytree=None, device=None, early_stopping_rounds=None,\n",
              "             enable_categorical=False, eval_metric=None, feature_types=None,\n",
              "             gamma=None, grow_policy=None, importance_type=None,\n",
              "             interaction_constraints=None, learning_rate=None, max_bin=None,\n",
              "             max_cat_threshold=None, max_cat_to_onehot=None,\n",
              "             max_delta_step=None, max_depth=None, max_leaves=None,\n",
              "             min_child_weight=None, missing=nan, monotone_constraints=None,\n",
              "             multi_strategy=None, n_estimators=None, n_jobs=None,\n",
              "             num_parallel_tree=None, random_state=None, ...)"
            ],
            "text/html": [
              "<style>#sk-container-id-1 {color: black;}#sk-container-id-1 pre{padding: 0;}#sk-container-id-1 div.sk-toggleable {background-color: white;}#sk-container-id-1 label.sk-toggleable__label {cursor: pointer;display: block;width: 100%;margin-bottom: 0;padding: 0.3em;box-sizing: border-box;text-align: center;}#sk-container-id-1 label.sk-toggleable__label-arrow:before {content: \"▸\";float: left;margin-right: 0.25em;color: #696969;}#sk-container-id-1 label.sk-toggleable__label-arrow:hover:before {color: black;}#sk-container-id-1 div.sk-estimator:hover label.sk-toggleable__label-arrow:before {color: black;}#sk-container-id-1 div.sk-toggleable__content {max-height: 0;max-width: 0;overflow: hidden;text-align: left;background-color: #f0f8ff;}#sk-container-id-1 div.sk-toggleable__content pre {margin: 0.2em;color: black;border-radius: 0.25em;background-color: #f0f8ff;}#sk-container-id-1 input.sk-toggleable__control:checked~div.sk-toggleable__content {max-height: 200px;max-width: 100%;overflow: auto;}#sk-container-id-1 input.sk-toggleable__control:checked~label.sk-toggleable__label-arrow:before {content: \"▾\";}#sk-container-id-1 div.sk-estimator input.sk-toggleable__control:checked~label.sk-toggleable__label {background-color: #d4ebff;}#sk-container-id-1 div.sk-label input.sk-toggleable__control:checked~label.sk-toggleable__label {background-color: #d4ebff;}#sk-container-id-1 input.sk-hidden--visually {border: 0;clip: rect(1px 1px 1px 1px);clip: rect(1px, 1px, 1px, 1px);height: 1px;margin: -1px;overflow: hidden;padding: 0;position: absolute;width: 1px;}#sk-container-id-1 div.sk-estimator {font-family: monospace;background-color: #f0f8ff;border: 1px dotted black;border-radius: 0.25em;box-sizing: border-box;margin-bottom: 0.5em;}#sk-container-id-1 div.sk-estimator:hover {background-color: #d4ebff;}#sk-container-id-1 div.sk-parallel-item::after {content: \"\";width: 100%;border-bottom: 1px solid gray;flex-grow: 1;}#sk-container-id-1 div.sk-label:hover label.sk-toggleable__label {background-color: #d4ebff;}#sk-container-id-1 div.sk-serial::before {content: \"\";position: absolute;border-left: 1px solid gray;box-sizing: border-box;top: 0;bottom: 0;left: 50%;z-index: 0;}#sk-container-id-1 div.sk-serial {display: flex;flex-direction: column;align-items: center;background-color: white;padding-right: 0.2em;padding-left: 0.2em;position: relative;}#sk-container-id-1 div.sk-item {position: relative;z-index: 1;}#sk-container-id-1 div.sk-parallel {display: flex;align-items: stretch;justify-content: center;background-color: white;position: relative;}#sk-container-id-1 div.sk-item::before, #sk-container-id-1 div.sk-parallel-item::before {content: \"\";position: absolute;border-left: 1px solid gray;box-sizing: border-box;top: 0;bottom: 0;left: 50%;z-index: -1;}#sk-container-id-1 div.sk-parallel-item {display: flex;flex-direction: column;z-index: 1;position: relative;background-color: white;}#sk-container-id-1 div.sk-parallel-item:first-child::after {align-self: flex-end;width: 50%;}#sk-container-id-1 div.sk-parallel-item:last-child::after {align-self: flex-start;width: 50%;}#sk-container-id-1 div.sk-parallel-item:only-child::after {width: 0;}#sk-container-id-1 div.sk-dashed-wrapped {border: 1px dashed gray;margin: 0 0.4em 0.5em 0.4em;box-sizing: border-box;padding-bottom: 0.4em;background-color: white;}#sk-container-id-1 div.sk-label label {font-family: monospace;font-weight: bold;display: inline-block;line-height: 1.2em;}#sk-container-id-1 div.sk-label-container {text-align: center;}#sk-container-id-1 div.sk-container {/* jupyter's `normalize.less` sets `[hidden] { display: none; }` but bootstrap.min.css set `[hidden] { display: none !important; }` so we also need the `!important` here to be able to override the default hidden behavior on the sphinx rendered scikit-learn.org. See: https://github.com/scikit-learn/scikit-learn/issues/21755 */display: inline-block !important;position: relative;}#sk-container-id-1 div.sk-text-repr-fallback {display: none;}</style><div id=\"sk-container-id-1\" class=\"sk-top-container\"><div class=\"sk-text-repr-fallback\"><pre>XGBRegressor(base_score=None, booster=None, callbacks=None,\n",
              "             colsample_bylevel=None, colsample_bynode=None,\n",
              "             colsample_bytree=None, device=None, early_stopping_rounds=None,\n",
              "             enable_categorical=False, eval_metric=None, feature_types=None,\n",
              "             gamma=None, grow_policy=None, importance_type=None,\n",
              "             interaction_constraints=None, learning_rate=None, max_bin=None,\n",
              "             max_cat_threshold=None, max_cat_to_onehot=None,\n",
              "             max_delta_step=None, max_depth=None, max_leaves=None,\n",
              "             min_child_weight=None, missing=nan, monotone_constraints=None,\n",
              "             multi_strategy=None, n_estimators=None, n_jobs=None,\n",
              "             num_parallel_tree=None, random_state=None, ...)</pre><b>In a Jupyter environment, please rerun this cell to show the HTML representation or trust the notebook. <br />On GitHub, the HTML representation is unable to render, please try loading this page with nbviewer.org.</b></div><div class=\"sk-container\" hidden><div class=\"sk-item\"><div class=\"sk-estimator sk-toggleable\"><input class=\"sk-toggleable__control sk-hidden--visually\" id=\"sk-estimator-id-1\" type=\"checkbox\" checked><label for=\"sk-estimator-id-1\" class=\"sk-toggleable__label sk-toggleable__label-arrow\">XGBRegressor</label><div class=\"sk-toggleable__content\"><pre>XGBRegressor(base_score=None, booster=None, callbacks=None,\n",
              "             colsample_bylevel=None, colsample_bynode=None,\n",
              "             colsample_bytree=None, device=None, early_stopping_rounds=None,\n",
              "             enable_categorical=False, eval_metric=None, feature_types=None,\n",
              "             gamma=None, grow_policy=None, importance_type=None,\n",
              "             interaction_constraints=None, learning_rate=None, max_bin=None,\n",
              "             max_cat_threshold=None, max_cat_to_onehot=None,\n",
              "             max_delta_step=None, max_depth=None, max_leaves=None,\n",
              "             min_child_weight=None, missing=nan, monotone_constraints=None,\n",
              "             multi_strategy=None, n_estimators=None, n_jobs=None,\n",
              "             num_parallel_tree=None, random_state=None, ...)</pre></div></div></div></div></div>"
            ]
          },
          "metadata": {},
          "execution_count": 26
        }
      ]
    },
    {
      "cell_type": "code",
      "source": [
        "y_pred_xgb_height = model_xgb_height.predict(X_test_scaled)\n",
        "y_pred_xgb_timber_stock = model_xgb_timber_stock.predict(X_test_scaled)\n",
        "y_pred_xgb_basal_area = model_xgb_basal_area.predict(X_test_scaled)"
      ],
      "metadata": {
        "id": "HUgJpnA0o48n"
      },
      "execution_count": null,
      "outputs": []
    },
    {
      "cell_type": "code",
      "source": [
        "r_sq_xgb_height = r2_score(y_height_test, y_pred_xgb_height)\n",
        "mae_xgb_height = mean_absolute_error(y_height_test, y_pred_xgb_height)\n",
        "\n",
        "r_sq_xgb_timber_stock = r2_score(y_timber_stock_test, y_pred_xgb_timber_stock)\n",
        "mae_xgb_timber_stock = mean_absolute_error(y_timber_stock_test, y_pred_xgb_timber_stock)\n",
        "\n",
        "r_sq_xgb_basal_area = r2_score(y_basal_area_test, y_pred_xgb_basal_area)\n",
        "mae_xgb_basal_area = mean_absolute_error(y_basal_area_test, y_pred_xgb_basal_area)"
      ],
      "metadata": {
        "id": "fiH16KZbo9Rd"
      },
      "execution_count": null,
      "outputs": []
    },
    {
      "cell_type": "code",
      "source": [
        "print(f'XGBoost - Coefficient of determination (height): {r_sq_xgb_height}')\n",
        "print(f'XGBoost - MAE (height): {mae_xgb_height}\\n')\n",
        "\n",
        "print(f'XGBoost - Coefficient of determination (timber stock): {r_sq_xgb_timber_stock}')\n",
        "print(f'XGBoost - MAE (timber stock): {mae_xgb_timber_stock}\\n')\n",
        "\n",
        "print(f'XGBoost - Coefficient of determination (basal area): {r_sq_xgb_basal_area}')\n",
        "print(f'XGBoost - MAE (basal area): {mae_xgb_basal_area}\\n')"
      ],
      "metadata": {
        "colab": {
          "base_uri": "https://localhost:8080/"
        },
        "id": "77E8BFVlpBxv",
        "outputId": "a4f45922-754a-4bf6-ca87-f0edaf488746"
      },
      "execution_count": null,
      "outputs": [
        {
          "output_type": "stream",
          "name": "stdout",
          "text": [
            "XGBoost - Coefficient of determination (height): 0.28917858685572695\n",
            "XGBoost - MAE (height): 1.745328742908373\n",
            "\n",
            "XGBoost - Coefficient of determination (timber stock): 0.2882941757536218\n",
            "XGBoost - MAE (timber stock): 53.92739856873204\n",
            "\n",
            "XGBoost - Coefficient of determination (basal area): 0.22743074147644793\n",
            "XGBoost - MAE (basal area): 2.821859195733187\n",
            "\n"
          ]
        }
      ]
    }
  ]
}